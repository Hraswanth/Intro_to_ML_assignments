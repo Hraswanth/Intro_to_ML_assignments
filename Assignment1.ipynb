{
  "nbformat": 4,
  "nbformat_minor": 0,
  "metadata": {
    "colab": {
      "private_outputs": true,
      "provenance": [],
      "authorship_tag": "ABX9TyM9l8u1c9Vz9LQl/YBMcW3F",
      "include_colab_link": true
    },
    "kernelspec": {
      "name": "python3",
      "display_name": "Python 3"
    },
    "language_info": {
      "name": "python"
    }
  },
  "cells": [
    {
      "cell_type": "markdown",
      "metadata": {
        "id": "view-in-github",
        "colab_type": "text"
      },
      "source": [
        "<a href=\"https://colab.research.google.com/github/Hraswanth/Intro_to_ML_assignments/blob/main/Assignment1.ipynb\" target=\"_parent\"><img src=\"https://colab.research.google.com/assets/colab-badge.svg\" alt=\"Open In Colab\"/></a>"
      ]
    },
    {
      "cell_type": "markdown",
      "source": [],
      "metadata": {
        "id": "nKt_DJfPEhUb"
      }
    },
    {
      "cell_type": "code",
      "execution_count": null,
      "metadata": {
        "id": "cTBuBE6q_yNa"
      },
      "outputs": [],
      "source": [
        "import pandas as pd\n",
        "\n",
        "data = pd.read_csv('/content/D3.csv')\n",
        "data.head()"
      ]
    },
    {
      "cell_type": "code",
      "source": [
        "import numpy as np\n",
        "import matplotlib.pyplot as plt\n",
        "\n",
        "def gradient_descent(X, Y, learning_rate, iterations):\n",
        "    m = len(Y)\n",
        "    theta = np.zeros(2)\n",
        "    loss_history = np.zeros(iterations)\n",
        "\n",
        "    for i in range(iterations):\n",
        "        predictions = X.dot(theta)\n",
        "        errors = np.subtract(predictions, Y)\n",
        "        sum_delta = (learning_rate / m) * X.transpose().dot(errors);\n",
        "        theta = theta - sum_delta;\n",
        "        loss_history[i] = compute_cost(X, Y, theta)\n",
        "\n",
        "    return theta, loss_history\n",
        "\n",
        "def compute_cost(X, Y, theta):\n",
        "    m = len(Y)\n",
        "    predictions = X.dot(theta)\n",
        "    square_err = (predictions - Y) ** 2\n",
        "    return 1 / (2 * m) * np.sum(square_err)\n",
        "\n",
        "X = data[['X1', 'X2', 'X3']].values\n",
        "Y = data['Y'].values\n",
        "m = len(Y)\n",
        "\n",
        "X_ones = np.append(np.ones((m, 1)), X, axis=1)\n",
        "\n",
        "learning_rates = [0.1, 0.01]\n",
        "iterations = 1000\n",
        "\n",
        "models = {}\n",
        "\n",
        "for i, var in enumerate(['X1', 'X2', 'X3']):\n",
        "    X_var = X_ones[:, [0, i+1]]\n",
        "    models[var] = {}\n",
        "    for lr in learning_rates:\n",
        "        theta, loss_history = gradient_descent(X_var, Y, lr, iterations)\n",
        "        models[var][lr] = {'theta': theta, 'loss_history': loss_history}\n",
        "\n",
        "models['X1']\n"
      ],
      "metadata": {
        "id": "SokI9mv-AJzt"
      },
      "execution_count": null,
      "outputs": []
    },
    {
      "cell_type": "code",
      "source": [
        "def plot_regression_and_loss(X, Y, theta, loss_history, var_name, lr):\n",
        "    plt.figure(figsize=(12, 5))\n",
        "\n",
        "    plt.subplot(1, 2, 1)\n",
        "    plt.scatter(X[:,1], Y, color='red', marker='+', label='Training Data')\n",
        "    plt.plot(X[:,1], X.dot(theta), color='blue', label='Linear Regression')\n",
        "    plt.title(f'Regression Line - {var_name} (Learning Rate: {lr})')\n",
        "    plt.xlabel(var_name)\n",
        "    plt.ylabel('Y')\n",
        "    plt.legend()\n",
        "\n",
        "    plt.subplot(1, 2, 2)\n",
        "    plt.plot(range(1, len(loss_history) + 1), loss_history, color='green')\n",
        "    plt.title(f'Loss over Iterations - {var_name} (Learning Rate: {lr})')\n",
        "    plt.xlabel('Iterations')\n",
        "    plt.ylabel('Loss')\n",
        "    plt.show()\n",
        "\n",
        "for var in ['X1', 'X2', 'X3']:\n",
        "    for lr in learning_rates:\n",
        "        theta = models[var][lr]['theta']\n",
        "        loss_history = models[var][lr]['loss_history']\n",
        "        X_var = X_ones[:, [0, data.columns.get_loc(var)]]\n",
        "        plot_regression_and_loss(X_var, Y, theta, loss_history, var, lr)"
      ],
      "metadata": {
        "id": "tgl96F40AeYr"
      },
      "execution_count": null,
      "outputs": []
    },
    {
      "cell_type": "code",
      "source": [
        "final_loss_summary = {}\n",
        "\n",
        "for var in ['X1', 'X2', 'X3']:\n",
        "    final_loss_summary[var] = {}\n",
        "    for lr in learning_rates:\n",
        "        final_loss = models[var][lr]['loss_history'][-1]\n",
        "        final_loss_summary[var][lr] = final_loss\n",
        "\n",
        "final_loss_summary_df = pd.DataFrame(final_loss_summary).transpose()\n",
        "final_loss_summary_df.columns = ['Loss at LR 0.1', 'Loss at LR 0.01']\n",
        "final_loss_summary_df\n"
      ],
      "metadata": {
        "id": "34n9LVTtAue3"
      },
      "execution_count": null,
      "outputs": []
    }
  ]
}